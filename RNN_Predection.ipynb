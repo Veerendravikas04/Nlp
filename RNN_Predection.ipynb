{
  "nbformat": 4,
  "nbformat_minor": 0,
  "metadata": {
    "colab": {
      "provenance": [],
      "authorship_tag": "ABX9TyO6cKK9tl5WKkkxYIPnHipN",
      "include_colab_link": true
    },
    "kernelspec": {
      "name": "python3",
      "display_name": "Python 3"
    },
    "language_info": {
      "name": "python"
    }
  },
  "cells": [
    {
      "cell_type": "markdown",
      "metadata": {
        "id": "view-in-github",
        "colab_type": "text"
      },
      "source": [
        "<a href=\"https://colab.research.google.com/github/Veerendravikas04/Nlp/blob/main/RNN_Predection.ipynb\" target=\"_parent\"><img src=\"https://colab.research.google.com/assets/colab-badge.svg\" alt=\"Open In Colab\"/></a>"
      ]
    },
    {
      "cell_type": "code",
      "execution_count": null,
      "metadata": {
        "id": "Vzn2M2pmLoP6"
      },
      "outputs": [],
      "source": [
        "import numpy as np\n",
        "import tensorflow as tf\n",
        "from tensorflow.keras.preprocessing.text import Tokenizer\n",
        "from tensorflow.keras.preprocessing.sequence import pad_sequences\n",
        "\n",
        "# Sample dataset\n",
        "sentences = [\n",
        "    'I love this movie, it is fantastic!',\n",
        "    'This film is terrible, I hate it.',\n",
        "    'What a great movie!',\n",
        "    'The plot was boring and predictable.',\n",
        "    'Amazing performance by the actors!',\n",
        "    'I did not enjoy this movie at all.'\n",
        "]\n",
        "\n",
        "labels = [1, 0, 1, 0, 1, 0]  # 1 for positive, 0 for negative\n",
        "\n",
        "# Tokenize the sentences\n",
        "tokenizer = Tokenizer(num_words=10000)\n",
        "tokenizer.fit_on_texts(sentences)\n",
        "sequences = tokenizer.texts_to_sequences(sentences)\n",
        "\n",
        "# Pad sequences to ensure uniform length\n",
        "max_length = 10\n",
        "X = pad_sequences(sequences, maxlen=max_length, padding='post')\n",
        "\n",
        "# Convert labels to numpy array\n",
        "y = np.array(labels)"
      ]
    },
    {
      "cell_type": "code",
      "source": [
        "sequences"
      ],
      "metadata": {
        "colab": {
          "base_uri": "https://localhost:8080/"
        },
        "id": "qXyxuaFeLuEq",
        "outputId": "bbf5a7d5-e48c-4f02-b271-8f27f27d4fe3"
      },
      "execution_count": null,
      "outputs": [
        {
          "output_type": "execute_result",
          "data": {
            "text/plain": [
              "[[1, 7, 2, 3, 4, 5, 8],\n",
              " [2, 9, 5, 10, 1, 11, 4],\n",
              " [12, 13, 14, 3],\n",
              " [6, 15, 16, 17, 18, 19],\n",
              " [20, 21, 22, 6, 23],\n",
              " [1, 24, 25, 26, 2, 3, 27, 28]]"
            ]
          },
          "metadata": {},
          "execution_count": 70
        }
      ]
    },
    {
      "cell_type": "code",
      "source": [
        "sequences.count(10)"
      ],
      "metadata": {
        "colab": {
          "base_uri": "https://localhost:8080/"
        },
        "id": "-FebcTyCL2LZ",
        "outputId": "d48a17da-abc5-473c-9b41-d08afd7e40a4"
      },
      "execution_count": null,
      "outputs": [
        {
          "output_type": "execute_result",
          "data": {
            "text/plain": [
              "0"
            ]
          },
          "metadata": {},
          "execution_count": 71
        }
      ]
    },
    {
      "cell_type": "code",
      "source": [
        "# View the word index\n",
        "word_index = tokenizer.word_index\n",
        "\n",
        "# Print each word and its corresponding index\n",
        "for word, index in word_index.items():\n",
        "    print(word, \"->\", index)\n"
      ],
      "metadata": {
        "colab": {
          "base_uri": "https://localhost:8080/"
        },
        "id": "fFW_epghQjAr",
        "outputId": "d419a4b0-4f43-4ccb-af82-e6f36ffdb278"
      },
      "execution_count": null,
      "outputs": [
        {
          "output_type": "stream",
          "name": "stdout",
          "text": [
            "i -> 1\n",
            "this -> 2\n",
            "movie -> 3\n",
            "it -> 4\n",
            "is -> 5\n",
            "the -> 6\n",
            "love -> 7\n",
            "fantastic -> 8\n",
            "film -> 9\n",
            "terrible -> 10\n",
            "hate -> 11\n",
            "what -> 12\n",
            "a -> 13\n",
            "great -> 14\n",
            "plot -> 15\n",
            "was -> 16\n",
            "boring -> 17\n",
            "and -> 18\n",
            "predictable -> 19\n",
            "amazing -> 20\n",
            "performance -> 21\n",
            "by -> 22\n",
            "actors -> 23\n",
            "did -> 24\n",
            "not -> 25\n",
            "enjoy -> 26\n",
            "at -> 27\n",
            "all -> 28\n"
          ]
        }
      ]
    },
    {
      "cell_type": "code",
      "source": [
        "sequences"
      ],
      "metadata": {
        "colab": {
          "base_uri": "https://localhost:8080/"
        },
        "id": "2No08xvkMGAS",
        "outputId": "6aa00400-c0c7-49e4-a548-1d15c0841630"
      },
      "execution_count": null,
      "outputs": [
        {
          "output_type": "execute_result",
          "data": {
            "text/plain": [
              "[[1, 7, 2, 3, 4, 5, 8],\n",
              " [2, 9, 5, 10, 1, 11, 4],\n",
              " [12, 13, 14, 3],\n",
              " [6, 15, 16, 17, 18, 19],\n",
              " [20, 21, 22, 6, 23],\n",
              " [1, 24, 25, 26, 2, 3, 27, 28]]"
            ]
          },
          "metadata": {},
          "execution_count": 73
        }
      ]
    },
    {
      "cell_type": "code",
      "source": [
        "X"
      ],
      "metadata": {
        "colab": {
          "base_uri": "https://localhost:8080/"
        },
        "id": "_B7biWtdMvQQ",
        "outputId": "e2627d3c-bc06-4e5d-8422-5400af9a74f7"
      },
      "execution_count": null,
      "outputs": [
        {
          "output_type": "execute_result",
          "data": {
            "text/plain": [
              "array([[ 1,  7,  2,  3,  4,  5,  8,  0,  0,  0],\n",
              "       [ 2,  9,  5, 10,  1, 11,  4,  0,  0,  0],\n",
              "       [12, 13, 14,  3,  0,  0,  0,  0,  0,  0],\n",
              "       [ 6, 15, 16, 17, 18, 19,  0,  0,  0,  0],\n",
              "       [20, 21, 22,  6, 23,  0,  0,  0,  0,  0],\n",
              "       [ 1, 24, 25, 26,  2,  3, 27, 28,  0,  0]], dtype=int32)"
            ]
          },
          "metadata": {},
          "execution_count": 74
        }
      ]
    },
    {
      "cell_type": "code",
      "source": [
        "y"
      ],
      "metadata": {
        "colab": {
          "base_uri": "https://localhost:8080/"
        },
        "id": "AXr5hFgYM7Dt",
        "outputId": "9da898b6-daa1-49df-a7dd-4f2f52636e3f"
      },
      "execution_count": null,
      "outputs": [
        {
          "output_type": "execute_result",
          "data": {
            "text/plain": [
              "array([1, 0, 1, 0, 1, 0])"
            ]
          },
          "metadata": {},
          "execution_count": 75
        }
      ]
    },
    {
      "cell_type": "code",
      "source": [
        "from tensorflow.keras.models import Sequential\n",
        "from tensorflow.keras.layers import Embedding, LSTM, Dense\n",
        "from tensorflow.keras.utils import plot_model\n",
        "\n",
        "# Define the RNN model\n",
        "model = Sequential()\n",
        "model.add(Embedding(input_dim=10000, output_dim=32, input_length=max_length))\n",
        "model.add(LSTM(64))\n",
        "model.add(Dense(1, activation='sigmoid'))\n",
        "\n",
        "# Compile the model\n",
        "model.compile(optimizer='adam', loss='binary_crossentropy', metrics=['accuracy'])\n",
        "\n",
        "# Plot the model structure\n",
        "plot_model(model, to_file='model_structure.png', show_shapes=True, show_layer_names=True)\n"
      ],
      "metadata": {
        "colab": {
          "base_uri": "https://localhost:8080/",
          "height": 422
        },
        "id": "ti0yGidMM-sJ",
        "outputId": "e8e46d3b-3574-4c0a-fc44-93250565d103"
      },
      "execution_count": null,
      "outputs": [
        {
          "output_type": "execute_result",
          "data": {
            "image/png": "[encoded data removed]",
            "text/plain": [
              "<IPython.core.display.Image object>"
            ]
          },
          "metadata": {},
          "execution_count": 76
        }
      ]
    },
    {
      "cell_type": "code",
      "source": [
        "model.summary()"
      ],
      "metadata": {
        "colab": {
          "base_uri": "https://localhost:8080/"
        },
        "id": "52lJ7_FMNEQd",
        "outputId": "a129202e-6b1e-4ef6-f205-3b09bbbde4b3"
      },
      "execution_count": null,
      "outputs": [
        {
          "output_type": "stream",
          "name": "stdout",
          "text": [
            "Model: \"sequential_4\"\n",
            "_________________________________________________________________\n",
            " Layer (type)                Output Shape              Param #   \n",
            "=================================================================\n",
            " embedding_4 (Embedding)     (None, 10, 32)            320000    \n",
            "                                                                 \n",
            " lstm_4 (LSTM)               (None, 64)                24832     \n",
            "                                                                 \n",
            " dense_4 (Dense)             (None, 1)                 65        \n",
            "                                                                 \n",
            "=================================================================\n",
            "Total params: 344897 (1.32 MB)\n",
            "Trainable params: 344897 (1.32 MB)\n",
            "Non-trainable params: 0 (0.00 Byte)\n",
            "_________________________________________________________________\n"
          ]
        }
      ]
    },
    {
      "cell_type": "code",
      "source": [
        "for layer in model.layers:\n",
        "    print(layer.name, layer.output_shape)"
      ],
      "metadata": {
        "colab": {
          "base_uri": "https://localhost:8080/"
        },
        "id": "apyznpi8NfJ3",
        "outputId": "26e2ebe7-3609-4fa0-8205-51118d631126"
      },
      "execution_count": null,
      "outputs": [
        {
          "output_type": "stream",
          "name": "stdout",
          "text": [
            "embedding_4 (None, 10, 32)\n",
            "lstm_4 (None, 64)\n",
            "dense_4 (None, 1)\n"
          ]
        }
      ]
    },
    {
      "cell_type": "code",
      "source": [
        "# Train the model\n",
        "model.fit(X, y, epochs=10, verbose=1)"
      ],
      "metadata": {
        "colab": {
          "base_uri": "https://localhost:8080/"
        },
        "id": "OtjpBiLHNsoF",
        "outputId": "bc9143cd-a6b8-4eb5-fc0b-e149dec207fb"
      },
      "execution_count": null,
      "outputs": [
        {
          "output_type": "stream",
          "name": "stdout",
          "text": [
            "Epoch 1/10\n",
            "1/1 [==============================] - 2s 2s/step - loss: 0.6924 - accuracy: 0.5000\n",
            "Epoch 2/10\n",
            "1/1 [==============================] - 0s 21ms/step - loss: 0.6912 - accuracy: 0.5000\n",
            "Epoch 3/10\n",
            "1/1 [==============================] - 0s 18ms/step - loss: 0.6900 - accuracy: 0.8333\n",
            "Epoch 4/10\n",
            "1/1 [==============================] - 0s 20ms/step - loss: 0.6886 - accuracy: 0.8333\n",
            "Epoch 5/10\n",
            "1/1 [==============================] - 0s 26ms/step - loss: 0.6871 - accuracy: 1.0000\n",
            "Epoch 6/10\n",
            "1/1 [==============================] - 0s 21ms/step - loss: 0.6854 - accuracy: 1.0000\n",
            "Epoch 7/10\n",
            "1/1 [==============================] - 0s 20ms/step - loss: 0.6835 - accuracy: 1.0000\n",
            "Epoch 8/10\n",
            "1/1 [==============================] - 0s 20ms/step - loss: 0.6812 - accuracy: 1.0000\n",
            "Epoch 9/10\n",
            "1/1 [==============================] - 0s 18ms/step - loss: 0.6786 - accuracy: 1.0000\n",
            "Epoch 10/10\n",
            "1/1 [==============================] - 0s 17ms/step - loss: 0.6756 - accuracy: 1.0000\n"
          ]
        },
        {
          "output_type": "execute_result",
          "data": {
            "text/plain": [
              "<keras.src.callbacks.History at 0x7c76da87c130>"
            ]
          },
          "metadata": {},
          "execution_count": 79
        }
      ]
    },
    {
      "cell_type": "code",
      "source": [
        "# Predict new sentences\n",
        "new_sentences = ['Vikas is a bad boy']\n",
        "new_sequences = tokenizer.texts_to_sequences(new_sentences)\n",
        "new_X = pad_sequences(new_sequences, maxlen=max_length, padding='post')\n",
        "\n",
        "predictions = model.predict(new_X)\n",
        "a=predictions.argmax()\n",
        "if a==0:\n",
        "  print(\"It is a negitive sentece\")\n",
        "else:\n",
        "   print(\"It is a positive sentece\")\n",
        "print(a)"
      ],
      "metadata": {
        "colab": {
          "base_uri": "https://localhost:8080/"
        },
        "id": "F6P04EXhNy3k",
        "outputId": "460b695d-0d7a-4408-9c6a-f08e6b0bad31"
      },
      "execution_count": null,
      "outputs": [
        {
          "output_type": "stream",
          "name": "stdout",
          "text": [
            "1/1 [==============================] - 0s 24ms/step\n",
            "It is a negitive sentece\n",
            "0\n"
          ]
        }
      ]
    },
    {
      "cell_type": "code",
      "source": [],
      "metadata": {
        "id": "weHcW3lqN1I5"
      },
      "execution_count": null,
      "outputs": []
    }
  ]
}